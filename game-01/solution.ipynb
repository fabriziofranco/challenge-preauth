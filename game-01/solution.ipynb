{
 "cells": [
  {
   "cell_type": "markdown",
   "metadata": {},
   "source": [
    "# Statement"
   ]
  },
  {
   "cell_type": "markdown",
   "metadata": {},
   "source": [
    "Let M be a not empty set of integer numbers, find the first subset of 2 numbers of M which sum N.\n",
    "\n",
    "For instance, let's say we've got a set of numbers [2, 5, 8, 14, 0] and N = 10, the resulting subset should be [2, 8].\n",
    "\n",
    "You're required to create a function that receives an array (M) and integer value (N). This function has to return an array of the first possible solution."
   ]
  },
  {
   "cell_type": "markdown",
   "metadata": {},
   "source": [
    "# Solution"
   ]
  },
  {
   "cell_type": "markdown",
   "metadata": {},
   "source": [
    "This solution runs in O(n) time and space complexity. For each element, we look up his complement (sum - element) in the Hash structure. Thus, each element is iterated once."
   ]
  },
  {
   "cell_type": "code",
   "execution_count": 28,
   "metadata": {},
   "outputs": [],
   "source": [
    "def findFirstPairSum(array, sum):\n",
    "    complement_indices = {}\n",
    "\n",
    "    for index in range(len(array)):\n",
    "        elem = array[index]\n",
    "        complement = sum - elem\n",
    "\n",
    "        if complement in complement_indices:\n",
    "            return ([complement_indices[complement], index], [complement, elem])\n",
    "\n",
    "        complement_indices[elem] = index\n",
    "\n",
    "    return None, None"
   ]
  },
  {
   "cell_type": "markdown",
   "metadata": {},
   "source": [
    "# Testing"
   ]
  },
  {
   "cell_type": "markdown",
   "metadata": {},
   "source": [
    "Each assert evaluates a different case."
   ]
  },
  {
   "cell_type": "code",
   "execution_count": 29,
   "metadata": {},
   "outputs": [],
   "source": [
    "array = [2, 5, 8, 14, 0]\n",
    "\n",
    "result_1 = findFirstPairSum(array, 10)\n",
    "\n",
    "assert result_1 == ([0, 2], [2, 8]), \"Error Test #1\"\n"
   ]
  },
  {
   "cell_type": "code",
   "execution_count": 30,
   "metadata": {},
   "outputs": [],
   "source": [
    "array = [1, 2, 3, 4, 5]\n",
    "\n",
    "result_2 = findFirstPairSum(array, 10)\n",
    "\n",
    "assert result_2 == (None, None), \"Error Test #2\""
   ]
  },
  {
   "cell_type": "code",
   "execution_count": 31,
   "metadata": {},
   "outputs": [],
   "source": [
    "array = [2, 5, 8, 5, 10]\n",
    "\n",
    "result_3 = findFirstPairSum(array, 10)\n",
    "\n",
    "assert result_1 == ([0, 2], [2, 8]), \"Error Test #3\""
   ]
  }
 ],
 "metadata": {
  "kernelspec": {
   "display_name": "Python 3.7.6 ('base')",
   "language": "python",
   "name": "python3"
  },
  "language_info": {
   "codemirror_mode": {
    "name": "ipython",
    "version": 3
   },
   "file_extension": ".py",
   "mimetype": "text/x-python",
   "name": "python",
   "nbconvert_exporter": "python",
   "pygments_lexer": "ipython3",
   "version": "3.7.6"
  },
  "orig_nbformat": 4,
  "vscode": {
   "interpreter": {
    "hash": "60ba1e9c20a97bab95adc8fa7cd7536eabf7ae0f08621d987aa706dba1e5c7d3"
   }
  }
 },
 "nbformat": 4,
 "nbformat_minor": 2
}
